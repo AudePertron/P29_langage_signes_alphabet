{
 "cells": [
  {
   "cell_type": "markdown",
   "metadata": {},
   "source": [
    "# Photographie par webcam (avec enregistrement)"
   ]
  },
  {
   "cell_type": "markdown",
   "metadata": {},
   "source": [
    "La fonction python ci-dessous permet de prendre une ou plusieurs photos via la Webcam de l'ordinateur en appuyant sur la touche ESAPCE. Les photos s'enregistrent automatiquement dans le dossier spécifié."
   ]
  },
  {
   "cell_type": "code",
   "execution_count": 34,
   "metadata": {},
   "outputs": [],
   "source": [
    "# prise de photo en appuyant sur la barre espace\n",
    "import cv2\n",
    "\n",
    "def take_pictures():\n",
    "    cam = cv2.VideoCapture(0)\n",
    "    i=1\n",
    "    \n",
    "    while True:\n",
    "        ret_val, img = cam.read()\n",
    "        img = cv2.flip(img, 1)\n",
    "        cv2.imshow('my webcam', img)\n",
    "\n",
    "        if cv2.waitKey(1)%256 == 32: # SPACE pressed\n",
    "            img_path = f\"./data/dave_{i}.png\"\n",
    "            cv2.imwrite(img_path, img)\n",
    "            print(f\"{img_path} written!\")\n",
    "            i += 1\n",
    "\n",
    "        if cv2.waitKey(1) == 27: \n",
    "            break \n",
    "    cam.release()\n",
    "    cv2.destroyAllWindows()\n"
   ]
  },
  {
   "cell_type": "code",
   "execution_count": 35,
   "metadata": {},
   "outputs": [
    {
     "name": "stdout",
     "output_type": "stream",
     "text": [
      "./data/dave_1.png written!\n",
      "./data/dave_2.png written!\n",
      "./data/dave_3.png written!\n",
      "./data/dave_4.png written!\n",
      "./data/dave_5.png written!\n"
     ]
    }
   ],
   "source": [
    "take_pictures()"
   ]
  },
  {
   "cell_type": "code",
   "execution_count": 79,
   "metadata": {},
   "outputs": [],
   "source": [
    "# prise de photo automatique (cascade, environ 5 photos/seconde)\n",
    "import cv2\n",
    "from time import sleep\n",
    "\n",
    "def take_pictures_cascade():\n",
    "    cam = cv2.VideoCapture(0)\n",
    "    i=1 #filename\n",
    "    counter=0 # frame counter\n",
    "    maximum_fps = 10\n",
    "    \n",
    "    while True:\n",
    "        ret_val, img = cam.read()\n",
    "        #img = cv2.flip(img, 1)\n",
    "        cv2.imshow('my webcam', img)\n",
    "            \n",
    "        if (counter % maximum_fps) == 0: ## Une image sur cinq\n",
    "        ## enregistre l'image ici..\n",
    " \n",
    "\n",
    "            img_path = f\"./data/test_{i}.png\"\n",
    "            cv2.imwrite(img_path, img)\n",
    "            print(f\"{img_path} written!\")\n",
    "            i += 1\n",
    "                \n",
    "        counter += 1\n",
    "\n",
    "        if cv2.waitKey(1) == 27: \n",
    "            break \n",
    "    cam.release()\n",
    "    cv2.destroyAllWindows()\n"
   ]
  },
  {
   "cell_type": "code",
   "execution_count": 80,
   "metadata": {},
   "outputs": [
    {
     "name": "stdout",
     "output_type": "stream",
     "text": [
      "./data/test_1.png written!\n",
      "./data/test_2.png written!\n",
      "./data/test_3.png written!\n",
      "./data/test_4.png written!\n",
      "./data/test_5.png written!\n",
      "./data/test_6.png written!\n",
      "./data/test_7.png written!\n",
      "./data/test_8.png written!\n",
      "./data/test_9.png written!\n",
      "./data/test_10.png written!\n",
      "./data/test_11.png written!\n",
      "./data/test_12.png written!\n",
      "./data/test_13.png written!\n",
      "./data/test_14.png written!\n",
      "./data/test_15.png written!\n",
      "./data/test_16.png written!\n",
      "./data/test_17.png written!\n",
      "./data/test_18.png written!\n",
      "./data/test_19.png written!\n",
      "./data/test_20.png written!\n"
     ]
    }
   ],
   "source": [
    "take_pictures_cascade()"
   ]
  },
  {
   "cell_type": "code",
   "execution_count": null,
   "metadata": {},
   "outputs": [],
   "source": []
  }
 ],
 "metadata": {
  "kernelspec": {
   "display_name": "Python 3",
   "language": "python",
   "name": "python3"
  },
  "language_info": {
   "codemirror_mode": {
    "name": "ipython",
    "version": 3
   },
   "file_extension": ".py",
   "mimetype": "text/x-python",
   "name": "python",
   "nbconvert_exporter": "python",
   "pygments_lexer": "ipython3",
   "version": "3.8.8"
  }
 },
 "nbformat": 4,
 "nbformat_minor": 4
}
