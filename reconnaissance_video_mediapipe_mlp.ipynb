{
 "cells": [
  {
   "cell_type": "markdown",
   "metadata": {},
   "source": [
    "# Lecture de l'alphabet des signes sur un flux vidéo"
   ]
  },
  {
   "cell_type": "markdown",
   "metadata": {},
   "source": [
    "<hr>"
   ]
  },
  {
   "cell_type": "code",
   "execution_count": 3,
   "metadata": {},
   "outputs": [],
   "source": [
    "#import skimage\n",
    "import numpy as np\n",
    "import cv2\n",
    "import mediapipe as mp\n",
    "from string import ascii_lowercase\n",
    "import os\n",
    "import joblib\n",
    "\n",
    "import matplotlib.pyplot as plt\n",
    "\n",
    "import tensorflow as tf\n",
    "\n",
    "import warnings\n",
    "warnings.filterwarnings('ignore')"
   ]
  },
  {
   "cell_type": "code",
   "execution_count": 10,
   "metadata": {
    "scrolled": false
   },
   "outputs": [],
   "source": [
    "LABELS = {k: v for k, v in enumerate(ascii_lowercase)}"
   ]
  },
  {
   "cell_type": "markdown",
   "metadata": {},
   "source": [
    "#### Création de la fonction de détection et classification des mains/signes sur une image"
   ]
  },
  {
   "cell_type": "code",
   "execution_count": 5,
   "metadata": {},
   "outputs": [],
   "source": [
    "# création d'unne fonction pour dessiner un rectangle autour de la main détectée\n",
    "def find_rectangle(hand_landmarks, image):\n",
    "    image_height, image_width, _ = image.shape\n",
    "    keypoints = []\n",
    "    for data_point in hand_landmarks.landmark:\n",
    "        keypoints.append({\n",
    "                            'X': data_point.x*image_width,\n",
    "                            'Y': data_point.y*image_height,                            \n",
    "                            })\n",
    "    \n",
    "    X_min = image_width\n",
    "    X_max = 0\n",
    "    Y_min = image_height\n",
    "    Y_max = 0\n",
    "\n",
    "    #print(keypoints[0]['X'])\n",
    "    for x in range(len(keypoints)):\n",
    "        if (keypoints[x]['X']) < X_min:\n",
    "            X_min = (keypoints[x]['X'])\n",
    "        if (keypoints[x]['X']) > X_max:\n",
    "            X_max = (keypoints[x]['X'])\n",
    "\n",
    "    for y in range(len(keypoints)):\n",
    "        if (keypoints[y]['Y']) < Y_min:\n",
    "            Y_min = (keypoints[y]['Y'])\n",
    "        if (keypoints[y]['Y']) > Y_max:\n",
    "            Y_max = (keypoints[y]['Y'])\n",
    "\n",
    "    startX = int(X_min -0.05* image_width)-10\n",
    "    startY = int(Y_min -0.05* image_height)-10\n",
    "    endX = int(X_max +0.05* image_width)+10\n",
    "    endY = int(Y_max +0.05* image_height)+10\n",
    "    # rect = cv2.rectangle(image, (startX, startY), (endX, endY), (155, 255, 0), 2)\n",
    "    return startX, startY, endX, endY"
   ]
  },
  {
   "cell_type": "code",
   "execution_count": 6,
   "metadata": {},
   "outputs": [],
   "source": [
    "def detect_and_classify_handsign(image):\n",
    "    \n",
    "    # imports mediapipe\n",
    "    mp_hands = mp.solutions.hands\n",
    "    mp_drawing = mp.solutions.drawing_utils\n",
    "    \n",
    "    with mp_hands.Hands(max_num_hands=1,\n",
    "                        min_detection_confidence=0.5,\n",
    "                        min_tracking_confidence=0.5) as hands:\n",
    "        \n",
    "        \n",
    "        # prétraitement de l'image :\n",
    "        results = hands.process(image)\n",
    "        \n",
    "        # on extrait ensuite l'image de la main à partir de l'image d'origine et des coordonnées \n",
    "        # du rectangle d'encadrement :\n",
    "        if results.multi_hand_landmarks:\n",
    "            for hand_landmarks in results.multi_hand_landmarks:\n",
    "                ## récupération des coordonnées des 4 coins du rectangle grace à la fonction find_rectangle.\n",
    "                x1, y1, x2, y2 = find_rectangle(hand_landmarks, image)\n",
    "                ## extraction de l'image de la main et prétraîtement en vue du traîtement par le modèle de \n",
    "                ## classification (rognage, conversion en niveaux de gris, standartisation, modification de forme).\n",
    "                cropped = image[y1:y2, x1:x2]\n",
    "                gray = cv2.cvtColor(cropped, cv2.COLOR_BGR2GRAY) \n",
    "                localized = (cv2.resize(gray,(28,28)).astype('float') / 255).reshape(1,784)\n",
    "                \n",
    "                # reconaissance du signe grace au modèle de classification :\n",
    "                recognized = np.argmax(model_rec.predict(localized)) \n",
    "                print(LABELS[recognized])\n",
    "                # on trace le rectangle et affiche la lettre reconnue\n",
    "                image = cv2.rectangle(image, (x1, y1), (x2, y2), (122,10,122), 2) \n",
    "                image = cv2.putText(image, LABELS[recognized], (10,300), cv2.FONT_HERSHEY_SIMPLEX, 2, (122,10,122), 2)\n",
    "    \n",
    "    return image"
   ]
  },
  {
   "cell_type": "markdown",
   "metadata": {},
   "source": [
    "#### Chargement de modèle de classification"
   ]
  },
  {
   "cell_type": "code",
   "execution_count": 7,
   "metadata": {},
   "outputs": [],
   "source": [
    "# modèle de classification du signe, entraîné avec Keras\n",
    "model_rec = tf.keras.models.load_model('../models/detection_langue_des_signes2.h5')\n",
    "#model_rec = joblib.load('../models/classification_lsf.sav')"
   ]
  },
  {
   "cell_type": "markdown",
   "metadata": {},
   "source": [
    "#### Création de la fonction de capture et de traitement de l'image Webcam"
   ]
  },
  {
   "cell_type": "code",
   "execution_count": 8,
   "metadata": {},
   "outputs": [],
   "source": [
    "def process_video(record_name=None):\n",
    "    cap = cv2.VideoCapture(0)\n",
    "\n",
    "    if (cap.isOpened()== False): \n",
    "        print(\"Error opening video stream\")\n",
    "    else :\n",
    "        # on récupère la hauteur et la largeur de l'image grâce aux méthodes cv2\n",
    "        global_width = int(cap.get(cv2.CAP_PROP_FRAME_WIDTH))\n",
    "        global_height = int(cap.get(cv2.CAP_PROP_FRAME_HEIGHT))\n",
    "\n",
    "    if record_name: # enregistement si un nom de fichier a été spécifié\n",
    "        result = cv2.VideoWriter(record_name,  cv2.VideoWriter_fourcc(*'MJPG'), 15, (global_width, global_height)) \n",
    "        \n",
    "    while(cap.isOpened()):\n",
    "        ret, frame = cap.read()\n",
    "        maximum_fps = 10\n",
    "        counter = 0\n",
    "        \n",
    "        if ret == True:\n",
    "            if (counter % maximum_fps) == 0: ## Une image sur cinq\n",
    "                # on appelle la fonction créér ci-dessus pour traîter l'image video\n",
    "                frame_processed = detect_and_classify_handsign(frame)\n",
    "                # on retourne l'image retraitée\n",
    "                cv2.imshow('Frame',frame_processed)\n",
    "            counter += 1\n",
    "\n",
    "            if cv2.waitKey(1) == 27:\n",
    "                break\n",
    "\n",
    "        else: \n",
    "            break\n",
    "\n",
    "    cap.release()\n",
    "    if record_name:\n",
    "        result.release()\n",
    "    cv2.destroyAllWindows()"
   ]
  },
  {
   "cell_type": "code",
   "execution_count": null,
   "metadata": {},
   "outputs": [],
   "source": [
    "process_video()"
   ]
  },
  {
   "cell_type": "raw",
   "metadata": {},
   "source": [
    "def detect_and_classify_handsign(image):\n",
    "    \n",
    "    # chargement et prétraitement de l'image :\n",
    "    input_tensor = tf.convert_to_tensor(image) # conversion de l'image en tenseur - shape=(X, X, 3)\n",
    "    input_tensor = input_tensor[tf.newaxis,...] # ajout d'un axe pour le batch - shape=(1, X, X, 3)\n",
    "    \n",
    "    # on prédit la localisation de la main sur l'image :\n",
    "    output_dict = model_locX(input_tensor) \n",
    "    \n",
    "    # il va falloir trier ces détections pour ne garder que celles qui correspondent réellement à une main :\n",
    "    ## 'num_detection' est une clé du dictionnaire output_dict qui donne le nombre de \"mains\" \n",
    "    ## détectées sur l'image.\n",
    "    num_detections = int(output_dict.pop('num_detections'))\n",
    "    output_dict = {key:value[0, :num_detections].numpy() for key,value in output_dict.items()}\n",
    "    ## 'detection_boxes' est une clé du dictionnaire output_dict qui donne les coordonnées des  \n",
    "    ## rectangles d'encadrement des mains détectées.\n",
    "    boxes = output_dict['detection_boxes']\n",
    "    ## 'detection_scores' est une clé du dictionnaire output_dict qui donne la probabilité de \n",
    "    ## présence effective de la main dans le rectangle d'encadrement.\n",
    "    scores = np.array(output_dict['detection_scores'])\n",
    "    \n",
    "    # On trie les rectangles d'encadrement pour ne conserver que celui qui détecte une main \n",
    "    # avec la plus haute probabilité :\n",
    "    real_boxe = boxes[np.argmax(scores)]\n",
    "    \n",
    "    # on extrait ensuite l'image de la main à partir de l'image d'origine et des coordonnées \n",
    "    # du rectangle d'encadrement :\n",
    "    ## récupération des coordonnées des 4 coins du rectangle d'encadrement sur l'image d'origine.\n",
    "    x1 = int(image.shape[1]*real_boxe[1])\n",
    "    x2 = int(image.shape[1]*real_boxe[3])\n",
    "    y1 = int(image.shape[0]*real_boxe[0])\n",
    "    y2 = int(image.shape[0]*real_boxe[2])\n",
    "    \n",
    "    ## extraction de l'image de la main et prétraîtement en vue du traîtement par le modèle de \n",
    "    ## classification (rognage, conversion en niveaux de gris, standartisation, modification de forme).\n",
    "    cropped = image[y1:y2, x1:x2]\n",
    "    gray = cv2.cvtColor(cropped, cv2.COLOR_BGR2GRAY) \n",
    "    localized = (cv2.resize(gray,(28,28)).astype('float') / 255).reshape(1,784)\n",
    "        \n",
    "    # reconaissance du signe grace au modèle de classification :\n",
    "    recognized = np.argmax(model_rec.predict(localized)) \n",
    "    print(LABELS[recognized])\n",
    "    image = cv2.rectangle(image, (x1, y1), (x2, y2), (122,10,122), 2) # on trace le rectangle\n",
    "    image = cv2.putText(image, LABELS[recognized], (10,300), cv2.FONT_HERSHEY_SIMPLEX, 2, (122,10,122), 2)\n",
    "    \n",
    "    return image"
   ]
  },
  {
   "cell_type": "code",
   "execution_count": null,
   "metadata": {},
   "outputs": [],
   "source": []
  }
 ],
 "metadata": {
  "kernelspec": {
   "display_name": "Python 3",
   "language": "python",
   "name": "python3"
  },
  "language_info": {
   "codemirror_mode": {
    "name": "ipython",
    "version": 3
   },
   "file_extension": ".py",
   "mimetype": "text/x-python",
   "name": "python",
   "nbconvert_exporter": "python",
   "pygments_lexer": "ipython3",
   "version": "3.8.8"
  }
 },
 "nbformat": 4,
 "nbformat_minor": 4
}
