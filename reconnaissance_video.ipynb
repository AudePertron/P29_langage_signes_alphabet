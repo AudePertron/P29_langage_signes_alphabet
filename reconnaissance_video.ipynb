{
 "cells": [
  {
   "cell_type": "markdown",
   "metadata": {},
   "source": [
    "# Lecture de l'alphabet des signes sur un flux vidéo"
   ]
  },
  {
   "cell_type": "markdown",
   "metadata": {},
   "source": [
    "<hr>"
   ]
  },
  {
   "cell_type": "code",
   "execution_count": 1,
   "metadata": {},
   "outputs": [],
   "source": [
    "import skimage\n",
    "import numpy as np\n",
    "\n",
    "import matplotlib.pyplot as plt\n",
    "\n",
    "import tensorflow as tf\n",
    "\n",
    "import warnings\n",
    "warnings.filterwarnings('ignore')"
   ]
  },
  {
   "cell_type": "markdown",
   "metadata": {},
   "source": [
    "#### Chargement des modèles"
   ]
  },
  {
   "cell_type": "code",
   "execution_count": null,
   "metadata": {},
   "outputs": [],
   "source": [
    "# modèle de détection de la main, entraîné avec Tensorflow Detection API\n",
    "model_loc = tf.saved_model.load('XXXXXXXXloc') \n",
    "# la fonction qui sert à la prédiction se trouve dans le module \"signature\" du modèle entraîné avec Tensorflow\n",
    "model_locX = model_loc.signatures['serving_default']\n",
    "\n",
    "# modèle de classification du signe, entraîné avec Keras\n",
    "model_rec = tf.keras.models.load_model('XXXXXXXXrec')"
   ]
  },
  {
   "cell_type": "markdown",
   "metadata": {},
   "source": [
    "#### Création de la fonction de détection et classification des mains/signes sur une image"
   ]
  },
  {
   "cell_type": "code",
   "execution_count": null,
   "metadata": {},
   "outputs": [],
   "source": [
    "def detect_and_classify_handsign(image):\n",
    "    \n",
    "    # chargement et prétraitement de l'image :\n",
    "    input_tensor = tf.convert_to_tensor(image) # conversion de l'image en tenseur - shape=(X, X, 3)\n",
    "    input_tensor = input_tensor[tf.newaxis,...] # ajout d'un axe pour le batch - shape=(1, X, X, 3)\n",
    "    \n",
    "    # on prédit la localisation de la main sur l'image :\n",
    "    output_dict = model_locX(input_tensor) \n",
    "    \n",
    "    # il va falloir trier ces détections pour ne garder que celles qui correspondent réellement à une main :\n",
    "    ## 'num_detection' est une clé du dictionnaire output_dict qui donne le nombre de \"mains\" \n",
    "    ## détectées sur l'image.\n",
    "    num_detections = int(output_dict.pop('num_detections'))\n",
    "    output_dict = {key:value[0, :num_detections].numpy() for key,value in output_dict.items()}\n",
    "    ## 'detection_boxes' est une clé du dictionnaire output_dict qui donne les coordonnées des  \n",
    "    ## rectangles d'encadrement des mains détectées.\n",
    "    boxes = output_dict['detection_boxes']\n",
    "    ## 'detection_scores' est une clé du dictionnaire output_dict qui donne la probabilité de \n",
    "    ## présence effective de la main dans le rectangle d'encadrement.\n",
    "    scores = np.array(output_dict['detection_scores'])\n",
    "    \n",
    "    # On trie les rectangles d'encadrement pour ne conserver que celui qui détecte une main \n",
    "    # avec la plus haute probabilité :\n",
    "    real_boxe = boxes[np.argmax(scores)]\n",
    "    \n",
    "    # on extrait ensuite l'image de la main à partir de l'image d'origine et des coordonnées \n",
    "    # du rectangle d'encadrement :\n",
    "    ## récupération des coordonnées des 4 coins du rectangle d'encadrement sur l'image d'origine.\n",
    "    x1 = int(image.shape[1]*real_boxe[1])\n",
    "    x2 = int(image.shape[1]*real_boxe[3])\n",
    "    y1 = int(image.shape[0]*real_boxe[0])\n",
    "    y2 = int(image.shape[0]*real_boxe[2])\n",
    "    \n",
    "    ## extraction de l'image de la main et prétraîtement en vue du traîtement par le modèle de \n",
    "    ## classification (rognage, conversion en niveaux de gris, standartisation, modification de forme).\n",
    "    cropped = image[y1:y2, x1:x2]\n",
    "    gray = cv2.cvtColor(cropped, cv2.COLOR_BGR2GRAY) \n",
    "    localized = (cv2.resize(gray,(50,50)).astype('float') / 255).reshape(1,50,50,1)\n",
    "        \n",
    "    # reconaissance du signe grace au modèle de classification :\n",
    "    recognized = np.argmax(model_rec.predict(localized)) \n",
    "    image = cv2.rectangle(image, (x1, y1), (x2, y2), (255, 255, 0), 1) # on trace le rectangle\n",
    "    image = cv2.putText(image, LABELS[recognized], (10,300), cv2.FONT_HERSHEY_SIMPLEX, 2, (255,255,0), 2)\n",
    "    \n",
    "    return image"
   ]
  },
  {
   "cell_type": "markdown",
   "metadata": {},
   "source": [
    "#### Création de la fonction de capture et de traitement de l'image Webcam"
   ]
  },
  {
   "cell_type": "code",
   "execution_count": null,
   "metadata": {},
   "outputs": [],
   "source": [
    "def process_video(record_name=None):\n",
    "    cap = cv2.VideoCapture(0)\n",
    "\n",
    "    if (cap.isOpened()== False): \n",
    "        print(\"Error opening video stream\")\n",
    "    else :\n",
    "        # on récupère la hauteur et la largeur de l'image grâce aux méthodes cv2\n",
    "        global_width = int(cap.get(cv2.CAP_PROP_FRAME_WIDTH))\n",
    "        global_height = int(cap.get(cv2.CAP_PROP_FRAME_HEIGHT))\n",
    "\n",
    "    if record_name: # enregistement si un nom de fichier a été spécifié\n",
    "        result = cv2.VideoWriter(record_name,  cv2.VideoWriter_fourcc(*'MJPG'), 15, (global_width, global_height)) \n",
    "        \n",
    "    while(cap.isOpened()):\n",
    "        ret, frame = cap.read()\n",
    "        if ret == True:\n",
    "            # on appelle la fonction créér ci-dessus pour traîter l'image video\n",
    "            frame_processed = detect_and_classify_handsign(frame)\n",
    "            # on retourne l'image retraitée\n",
    "            cv2.imshow('Frame',frame_processed)\n",
    "\n",
    "            if cv2.waitKey(1) == 27:\n",
    "                break\n",
    "\n",
    "        else: \n",
    "            break\n",
    "\n",
    "    cap.release()\n",
    "    if record_name:\n",
    "        result.release()\n",
    "    cv2.destroyAllWindows()"
   ]
  },
  {
   "cell_type": "code",
   "execution_count": 5,
   "metadata": {},
   "outputs": [],
   "source": [
    "import cv2\n",
    "cap = cv2.VideoCapture(0)\n"
   ]
  },
  {
   "cell_type": "code",
   "execution_count": 6,
   "metadata": {},
   "outputs": [],
   "source": [
    "cap.release()"
   ]
  },
  {
   "cell_type": "code",
   "execution_count": null,
   "metadata": {},
   "outputs": [],
   "source": []
  }
 ],
 "metadata": {
  "kernelspec": {
   "display_name": "Python 3",
   "language": "python",
   "name": "python3"
  },
  "language_info": {
   "codemirror_mode": {
    "name": "ipython",
    "version": 3
   },
   "file_extension": ".py",
   "mimetype": "text/x-python",
   "name": "python",
   "nbconvert_exporter": "python",
   "pygments_lexer": "ipython3",
   "version": "3.6.12"
  }
 },
 "nbformat": 4,
 "nbformat_minor": 4
}
